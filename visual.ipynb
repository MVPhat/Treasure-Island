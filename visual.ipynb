{
 "cells": [
  {
   "cell_type": "code",
   "execution_count": 1,
   "id": "e58708fe",
   "metadata": {},
   "outputs": [],
   "source": [
    "import numpy as np\n",
    "from turtle import Screen, Turtle\n",
    "import random\n",
    "from hint import Hint"
   ]
  },
  {
   "cell_type": "code",
   "execution_count": 2,
   "id": "94b84860",
   "metadata": {},
   "outputs": [],
   "source": [
    "FONT_SIZE = 14\n",
    "SIZE = 40\n",
    "FONT = ('Arial', FONT_SIZE, 'normal')\n",
    "FONT_BOLD = ('Arial', FONT_SIZE, 'bold')\n",
    "COLORS = [(111, 168, 220), (255, 242, 204), (217, 210, 233), (230, 184, 175), (234, 209, 220), (208, 224, 227), (217, 234, 211)]"
   ]
  },
  {
   "cell_type": "code",
   "execution_count": 3,
   "id": "bcd5ce48",
   "metadata": {},
   "outputs": [],
   "source": [
    "def readInputFile(filename):\n",
    "    with open (filename, \"r\") as f:\n",
    "        # - The first line contains 2 numbers to represent the size of the map (𝑾 and 𝑯).\n",
    "        width, height = f.readline().split(\" \")\n",
    "        # - The second line is the turn number that the pirate reveals the prison (𝒓).\n",
    "        reveals = f.readline().split(\" \")\n",
    "        # - The third line is the turn number that the pirate is free and start running to the\n",
    "        # treasure. (𝒇).\n",
    "        free = f.readline().split(\" \")\n",
    "        # - The fourth line is the number of regions on the map (including the sea) (𝑹).\n",
    "        regions = f.readline().split(\" \")\n",
    "        # - The fifth line contains 2 numbers to represent the treasure position (𝑻𝒙, 𝑻𝒚)\n",
    "        Tx, Ty = f.readline().split(\" \")\n",
    "        # - The next H lines are the H rows of a map\n",
    "        map = []\n",
    "        for i in range(int(height)):\n",
    "            map.append(f.readline().split(\";\"))\n",
    "        for i in range(int(height)):\n",
    "            for j in range(int(width)):\n",
    "                map[i][j] = (int(map[i][j][0]), '' if map[i][j][1] == \"\\n\" or map[i][j][1] == \" \" else map[i][j][1], False)\n",
    "    return (int(width), int(height)), reveals, free, regions, (Tx, Ty), map"
   ]
  },
  {
   "cell_type": "code",
   "execution_count": 4,
   "id": "e1faaf88",
   "metadata": {},
   "outputs": [],
   "source": [
    "def square(size, color, mark):\n",
    "\n",
    "    ''' draw and fill one square '''\n",
    "    greg.goto(greg.xcor() +1, greg.ycor())\n",
    "    greg.fillcolor(color)\n",
    "    if (mark):\n",
    "        greg.pencolor('red')\n",
    "        greg.pensize(3)\n",
    "    else:\n",
    "        greg.pencolor('black')\n",
    "        greg.pensize(1)\n",
    "    greg.pendown()\n",
    "    greg.begin_fill()\n",
    "    for _ in range(4):\n",
    "        greg.forward(size)\n",
    "        greg.left(90)\n",
    "\n",
    "    greg.end_fill()\n",
    "\n",
    "    greg.penup()\n",
    "    greg.forward(size)\n"
   ]
  },
  {
   "cell_type": "code",
   "execution_count": 5,
   "id": "22704107",
   "metadata": {
    "scrolled": true
   },
   "outputs": [],
   "source": [
    "def chessboard(size):\n",
    "\n",
    "    ''' draw the whole chessboard '''\n",
    "    (width, height), _, _, _,_, map = readInputFile(\"MAP_0.txt\")\n",
    "    hint = Hint(map, width)\n",
    "    hint.hint_1()\n",
    "    \n",
    "    map = hint.map\n",
    "    \n",
    "    greg.penup()\n",
    "    greg.goto(-size * height/2, size * width/2)\n",
    "    for i in range(height):\n",
    "        for j in range(width):\n",
    "            area, dump, mark = map[i][j]\n",
    "            color = COLORS[area]\n",
    "            square(size, color, mark)\n",
    "            \n",
    "            marker.goto(greg.xcor() - size/2, greg.ycor() + size/2 - FONT_SIZE/2)\n",
    "#             marker.pencolor(\"black\")\n",
    "            if (dump == \"P\" or dump == \"T\"):\n",
    "                marker.write(f\"{area}{dump}\", align='center', font=FONT_BOLD)\n",
    "            else:    \n",
    "                marker.write(f\"{area}{dump}\", align='center', font=FONT)\n",
    "        greg.goto(-size * height/2, size * width/2 - size * (i + 1))"
   ]
  },
  {
   "cell_type": "code",
   "execution_count": 6,
   "id": "aed6152d",
   "metadata": {},
   "outputs": [
    {
     "data": {
      "text/plain": [
       "''"
      ]
     },
     "execution_count": 6,
     "metadata": {},
     "output_type": "execute_result"
    },
    {
     "ename": "",
     "evalue": "",
     "output_type": "error",
     "traceback": [
      "\u001b[1;31mThe Kernel crashed while executing code in the the current cell or a previous cell. Please review the code in the cell(s) to identify a possible cause of the failure. Click <a href='https://aka.ms/vscodeJupyterKernelCrash'>here</a> for more info. View Jupyter <a href='command:jupyter.viewOutput'>log</a> for further details."
     ]
    }
   ],
   "source": [
    "# set screen characteristics\n",
    "screen = Screen()\n",
    "screen.title('Visualization')\n",
    "screen.bgcolor('lightblue')\n",
    "screen.colormode(255)\n",
    "\n",
    "# set turtle characteristics\n",
    "greg = Turtle()\n",
    "greg.hideturtle()\n",
    "\n",
    "# set marker characteristics\n",
    "marker = Turtle()\n",
    "marker.penup()\n",
    "marker.hideturtle()\n",
    "\n",
    "screen.tracer(False)  # because I have no patience\n",
    "\n",
    "chessboard(SIZE)\n",
    "screen.tracer(False)\n",
    "\n",
    "# screen.mainloop()\n",
    "\n",
    "\n",
    "ts = greg.getscreen()\n",
    "\n",
    "ts.getcanvas().postscript(file=\"hint.eps\")"
   ]
  },
  {
   "cell_type": "code",
   "execution_count": null,
   "id": "8f865ab2",
   "metadata": {},
   "outputs": [],
   "source": []
  },
  {
   "cell_type": "code",
   "execution_count": null,
   "id": "4a754250",
   "metadata": {},
   "outputs": [],
   "source": []
  }
 ],
 "metadata": {
  "kernelspec": {
   "display_name": "Python 3",
   "language": "python",
   "name": "python3"
  },
  "language_info": {
   "codemirror_mode": {
    "name": "ipython",
    "version": 3
   },
   "file_extension": ".py",
   "mimetype": "text/x-python",
   "name": "python",
   "nbconvert_exporter": "python",
   "pygments_lexer": "ipython3",
   "version": "3.10.7 (tags/v3.10.7:6cc6b13, Sep  5 2022, 14:08:36) [MSC v.1933 64 bit (AMD64)]"
  },
  "toc": {
   "base_numbering": 1,
   "nav_menu": {},
   "number_sections": true,
   "sideBar": true,
   "skip_h1_title": false,
   "title_cell": "Table of Contents",
   "title_sidebar": "Contents",
   "toc_cell": false,
   "toc_position": {},
   "toc_section_display": true,
   "toc_window_display": false
  },
  "varInspector": {
   "cols": {
    "lenName": 16,
    "lenType": 16,
    "lenVar": 40
   },
   "kernels_config": {
    "python": {
     "delete_cmd_postfix": "",
     "delete_cmd_prefix": "del ",
     "library": "var_list.py",
     "varRefreshCmd": "print(var_dic_list())"
    },
    "r": {
     "delete_cmd_postfix": ") ",
     "delete_cmd_prefix": "rm(",
     "library": "var_list.r",
     "varRefreshCmd": "cat(var_dic_list()) "
    }
   },
   "types_to_exclude": [
    "module",
    "function",
    "builtin_function_or_method",
    "instance",
    "_Feature"
   ],
   "window_display": false
  },
  "vscode": {
   "interpreter": {
    "hash": "565b620ef4c9e5101680e13bb2a56b3f7aaef9be7ff43fab0b7897ad533e0bec"
   }
  }
 },
 "nbformat": 4,
 "nbformat_minor": 5
}
